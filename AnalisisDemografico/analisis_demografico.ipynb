{
 "cells": [
  {
   "cell_type": "markdown",
   "id": "014c2009-3895-40f4-ba49-a179aecdc5ab",
   "metadata": {},
   "source": [
    "# Demographic Data Analyser"
   ]
  },
  {
   "cell_type": "code",
   "execution_count": 1,
   "id": "6fdbe44f-6814-421d-bb3c-aa2f07623bde",
   "metadata": {},
   "outputs": [],
   "source": [
    "import pandas as pd\n",
    "import numpy as np"
   ]
  },
  {
   "cell_type": "code",
   "execution_count": 2,
   "id": "f1e0de8a-7cd2-426d-963a-02433b72984d",
   "metadata": {},
   "outputs": [],
   "source": [
    "df = pd.read_csv('Downloads/adult.data.csv')"
   ]
  },
  {
   "cell_type": "code",
   "execution_count": 3,
   "id": "07650dc6-0ec3-4ab5-b459-9921bfcb2884",
   "metadata": {},
   "outputs": [
    {
     "data": {
      "text/html": [
       "<div>\n",
       "<style scoped>\n",
       "    .dataframe tbody tr th:only-of-type {\n",
       "        vertical-align: middle;\n",
       "    }\n",
       "\n",
       "    .dataframe tbody tr th {\n",
       "        vertical-align: top;\n",
       "    }\n",
       "\n",
       "    .dataframe thead th {\n",
       "        text-align: right;\n",
       "    }\n",
       "</style>\n",
       "<table border=\"1\" class=\"dataframe\">\n",
       "  <thead>\n",
       "    <tr style=\"text-align: right;\">\n",
       "      <th></th>\n",
       "      <th>age</th>\n",
       "      <th>workclass</th>\n",
       "      <th>fnlwgt</th>\n",
       "      <th>education</th>\n",
       "      <th>education-num</th>\n",
       "      <th>marital-status</th>\n",
       "      <th>occupation</th>\n",
       "      <th>relationship</th>\n",
       "      <th>race</th>\n",
       "      <th>sex</th>\n",
       "      <th>capital-gain</th>\n",
       "      <th>capital-loss</th>\n",
       "      <th>hours-per-week</th>\n",
       "      <th>native-country</th>\n",
       "      <th>salary</th>\n",
       "    </tr>\n",
       "  </thead>\n",
       "  <tbody>\n",
       "    <tr>\n",
       "      <th>0</th>\n",
       "      <td>39</td>\n",
       "      <td>State-gov</td>\n",
       "      <td>77516</td>\n",
       "      <td>Bachelors</td>\n",
       "      <td>13</td>\n",
       "      <td>Never-married</td>\n",
       "      <td>Adm-clerical</td>\n",
       "      <td>Not-in-family</td>\n",
       "      <td>White</td>\n",
       "      <td>Male</td>\n",
       "      <td>2174</td>\n",
       "      <td>0</td>\n",
       "      <td>40</td>\n",
       "      <td>United-States</td>\n",
       "      <td>&lt;=50K</td>\n",
       "    </tr>\n",
       "    <tr>\n",
       "      <th>1</th>\n",
       "      <td>50</td>\n",
       "      <td>Self-emp-not-inc</td>\n",
       "      <td>83311</td>\n",
       "      <td>Bachelors</td>\n",
       "      <td>13</td>\n",
       "      <td>Married-civ-spouse</td>\n",
       "      <td>Exec-managerial</td>\n",
       "      <td>Husband</td>\n",
       "      <td>White</td>\n",
       "      <td>Male</td>\n",
       "      <td>0</td>\n",
       "      <td>0</td>\n",
       "      <td>13</td>\n",
       "      <td>United-States</td>\n",
       "      <td>&lt;=50K</td>\n",
       "    </tr>\n",
       "    <tr>\n",
       "      <th>2</th>\n",
       "      <td>38</td>\n",
       "      <td>Private</td>\n",
       "      <td>215646</td>\n",
       "      <td>HS-grad</td>\n",
       "      <td>9</td>\n",
       "      <td>Divorced</td>\n",
       "      <td>Handlers-cleaners</td>\n",
       "      <td>Not-in-family</td>\n",
       "      <td>White</td>\n",
       "      <td>Male</td>\n",
       "      <td>0</td>\n",
       "      <td>0</td>\n",
       "      <td>40</td>\n",
       "      <td>United-States</td>\n",
       "      <td>&lt;=50K</td>\n",
       "    </tr>\n",
       "  </tbody>\n",
       "</table>\n",
       "</div>"
      ],
      "text/plain": [
       "   age         workclass  fnlwgt  education  education-num  \\\n",
       "0   39         State-gov   77516  Bachelors             13   \n",
       "1   50  Self-emp-not-inc   83311  Bachelors             13   \n",
       "2   38           Private  215646    HS-grad              9   \n",
       "\n",
       "       marital-status         occupation   relationship   race   sex  \\\n",
       "0       Never-married       Adm-clerical  Not-in-family  White  Male   \n",
       "1  Married-civ-spouse    Exec-managerial        Husband  White  Male   \n",
       "2            Divorced  Handlers-cleaners  Not-in-family  White  Male   \n",
       "\n",
       "   capital-gain  capital-loss  hours-per-week native-country salary  \n",
       "0          2174             0              40  United-States  <=50K  \n",
       "1             0             0              13  United-States  <=50K  \n",
       "2             0             0              40  United-States  <=50K  "
      ]
     },
     "execution_count": 3,
     "metadata": {},
     "output_type": "execute_result"
    }
   ],
   "source": [
    "df.head(3)"
   ]
  },
  {
   "cell_type": "markdown",
   "id": "80465ff7-1d78-4c1d-80bf-452d14816a44",
   "metadata": {},
   "source": [
    "## Count of races in the dataset"
   ]
  },
  {
   "cell_type": "code",
   "execution_count": 4,
   "id": "a627ef78-5cb8-4d57-a282-a6dbcad186ee",
   "metadata": {},
   "outputs": [],
   "source": [
    "race_count = df[\"race\"].value_counts()"
   ]
  },
  {
   "cell_type": "code",
   "execution_count": 5,
   "id": "8913c857-07e2-4aba-8b61-15b14dcb56de",
   "metadata": {},
   "outputs": [
    {
     "name": "stdout",
     "output_type": "stream",
     "text": [
      "White                 27816\n",
      "Black                  3124\n",
      "Asian-Pac-Islander     1039\n",
      "Amer-Indian-Eskimo      311\n",
      "Other                   271\n",
      "Name: race, dtype: int64\n"
     ]
    }
   ],
   "source": [
    "print(race_count)"
   ]
  },
  {
   "cell_type": "markdown",
   "id": "eacccc0f-e593-4a97-8f76-92dd5fa90b05",
   "metadata": {},
   "source": [
    "## Average age of men"
   ]
  },
  {
   "cell_type": "code",
   "execution_count": 61,
   "id": "a9208baf-7cf0-4219-b994-126470180e06",
   "metadata": {},
   "outputs": [
    {
     "name": "stdout",
     "output_type": "stream",
     "text": [
      "The average age of men is 39.4\n"
     ]
    }
   ],
   "source": [
    "age_male = df[(df['sex'] == 'Male')]\n",
    "average_age_men = round(age_male['age'].mean(),1)\n",
    "print('The average age of men is {}' .format(average_age_men))"
   ]
  },
  {
   "cell_type": "markdown",
   "id": "90efe91b-fc3d-485d-949a-5bed625424dc",
   "metadata": {},
   "source": [
    "## Percentage of people who has a Bachelor degree"
   ]
  },
  {
   "cell_type": "code",
   "execution_count": 7,
   "id": "5f73cb60-6478-4ab6-a7e3-58c1f128546b",
   "metadata": {},
   "outputs": [
    {
     "name": "stdout",
     "output_type": "stream",
     "text": [
      "The percentage of people who has a bachelor degree is 16.4%\n"
     ]
    }
   ],
   "source": [
    "bachelors_degree = df[(df['education'] == 'Bachelors')]\n",
    "percentage_bachelors = (bachelors_degree.shape[0] / df.shape[0]) * 100\n",
    "print('The percentage of people who has a bachelor degree is {}%' .format(round(percentage_bachelors, 1)))"
   ]
  },
  {
   "cell_type": "code",
   "execution_count": 49,
   "id": "70eb4816-6181-4587-9729-4b3da8f61283",
   "metadata": {},
   "outputs": [],
   "source": [
    "masters_degree = df[(df['education'] == 'Masters')]\n",
    "doctorate_degree = df[(df['education'] == 'Doctorate')]"
   ]
  },
  {
   "cell_type": "code",
   "execution_count": 52,
   "id": "f6f5321a-e124-4c3f-9b32-b543e1345cd2",
   "metadata": {},
   "outputs": [
    {
     "name": "stdout",
     "output_type": "stream",
     "text": [
      "The percentage of people with high education is 23.0%\n"
     ]
    }
   ],
   "source": [
    "higher_education = ((bachelors_degree.shape[0] + masters_degree.shape[0] + doctorate_degree.shape[0]) / df.shape[0]) * 100\n",
    "print('The percentage of people with high education is {}%' .format(round(higher_education, 1)))"
   ]
  },
  {
   "cell_type": "code",
   "execution_count": 53,
   "id": "712d3dfe-0020-4d24-881d-e5d34a7aa865",
   "metadata": {},
   "outputs": [
    {
     "name": "stdout",
     "output_type": "stream",
     "text": [
      "The percentage of people without high education is 77.0%\n"
     ]
    }
   ],
   "source": [
    "lower_education = 100 - higher_education\n",
    "print('The percentage of people without high education is {}%' .format(round(lower_education, 1)))"
   ]
  },
  {
   "cell_type": "markdown",
   "id": "6dce4ebd-51c5-4501-a1c0-5a056d31da32",
   "metadata": {},
   "source": [
    "## People earning more than 50k and their degrees"
   ]
  },
  {
   "cell_type": "code",
   "execution_count": 8,
   "id": "1898ae59-a6de-4843-93df-87d8d7d1b386",
   "metadata": {},
   "outputs": [],
   "source": [
    "more50k = df[df['salary'] == '>50K']"
   ]
  },
  {
   "cell_type": "markdown",
   "id": "3c2228b4-6ad4-4d80-bc54-a98a38100e47",
   "metadata": {},
   "source": [
    "### Percentage of Bachelors"
   ]
  },
  {
   "cell_type": "code",
   "execution_count": 9,
   "id": "b4a47d86-cb9a-423f-8cc3-38d1b6b67860",
   "metadata": {},
   "outputs": [
    {
     "name": "stdout",
     "output_type": "stream",
     "text": [
      "The percentage of bachelors earning more than 50k is 6.8%\n"
     ]
    }
   ],
   "source": [
    "df_bachelors_plus50 = more50k[more50k['education'] == 'Bachelors']\n",
    "perc_bach_more_50k = (df_bachelors_plus50.shape[0] / df.shape[0]) * 100\n",
    "print('The percentage of bachelors earning more than 50k is {}%' .format(round(perc_bach_more_50k, 1)))"
   ]
  },
  {
   "cell_type": "markdown",
   "id": "c3855647-cd03-4bd7-8b55-316d9693556b",
   "metadata": {},
   "source": [
    "### Percentage of Masters"
   ]
  },
  {
   "cell_type": "code",
   "execution_count": 10,
   "id": "ccbfbce6-281f-4b4a-9370-5349a3ea5edf",
   "metadata": {},
   "outputs": [
    {
     "name": "stdout",
     "output_type": "stream",
     "text": [
      "The percentage of masters earning more than 50k is 2.9%\n"
     ]
    }
   ],
   "source": [
    "df_masters_plus50 = more50k[more50k['education'] == 'Masters']\n",
    "perc_master_more_50k = (df_masters_plus50.shape[0] / df.shape[0]) * 100\n",
    "print('The percentage of masters earning more than 50k is {}%' .format(round(perc_master_more_50k, 1)))"
   ]
  },
  {
   "cell_type": "markdown",
   "id": "7fca7eaf-fd4a-4e08-bbfe-f52f5d4c401c",
   "metadata": {},
   "source": [
    "### Percentage of Doctorates"
   ]
  },
  {
   "cell_type": "code",
   "execution_count": 11,
   "id": "3b44180a-5394-4ada-b787-47bf7b43dfa2",
   "metadata": {},
   "outputs": [
    {
     "name": "stdout",
     "output_type": "stream",
     "text": [
      "The percentage of doctorates earning more than 50k is 0.9%\n"
     ]
    }
   ],
   "source": [
    "df_doctorate_plus50 = more50k[more50k['education'] == 'Doctorate']\n",
    "perc_doctorate_more_50k = (df_doctorate_plus50.shape[0] / df.shape[0]) * 100\n",
    "print('The percentage of doctorates earning more than 50k is {}%' .format(round(perc_doctorate_more_50k, 1)))"
   ]
  },
  {
   "cell_type": "markdown",
   "id": "5984354a-5c22-4702-a9a9-65ab283212e0",
   "metadata": {},
   "source": [
    "## Percentage of people eraning more than 50k without advanced education"
   ]
  },
  {
   "cell_type": "code",
   "execution_count": 46,
   "id": "d842d342-b529-40d6-8dcc-9ef1c2a8e56d",
   "metadata": {},
   "outputs": [
    {
     "name": "stdout",
     "output_type": "stream",
     "text": [
      "The percentage of people earning more than 50k and hasn´t advanced education is 55.5%\n"
     ]
    }
   ],
   "source": [
    "lower_education_rich = ((more50k.shape[0] - df_bachelors_plus50.shape[0] - df_masters_plus50.shape[0] - df_doctorate_plus50.shape[0]) / more50k.shape[0]) * 100\n",
    "print('The percentage of people earning more than 50k and hasn´t advanced education is {}%' .format(round(lower_education_rich, 1)))"
   ]
  },
  {
   "cell_type": "code",
   "execution_count": 47,
   "id": "808d8874-51a0-43f0-bed0-339dda96a882",
   "metadata": {},
   "outputs": [
    {
     "name": "stdout",
     "output_type": "stream",
     "text": [
      "The percentage of people earning more than 50k and has advanced education is 44.5%\n"
     ]
    }
   ],
   "source": [
    "higher_education_rich = ((df_bachelors_plus50.shape[0] + df_masters_plus50.shape[0] + df_doctorate_plus50.shape[0]) / more50k.shape[0]) * 100\n",
    "print('The percentage of people earning more than 50k and has advanced education is {}%' .format(round(higher_education_rich, 1)))"
   ]
  },
  {
   "cell_type": "markdown",
   "id": "77a4baa4-3419-48cb-bd9d-724ce73aab95",
   "metadata": {},
   "source": [
    "## Minimum number of hours per week"
   ]
  },
  {
   "cell_type": "code",
   "execution_count": 58,
   "id": "378cf007-3d2a-4514-800d-4fdb094ba8ad",
   "metadata": {},
   "outputs": [
    {
     "name": "stdout",
     "output_type": "stream",
     "text": [
      "The percentage of people who work the minimum number of hours per week and earn more than 50K is 10.0%\n"
     ]
    }
   ],
   "source": [
    "min_work_hours = df['hours-per-week'].min()\n",
    "df_min_hours = df[df['hours-per-week'] == min_work_hours]\n",
    "min_hours_plus50 = df_min_hours[df_min_hours['salary'] == '>50K']\n",
    "num_min_workers = min_hours_plus50.shape[0]\n",
    "rich_percentage = (num_min_workers / df_min_hours.shape[0]) * 100\n",
    "print('The percentage of people who work the minimum number of hours per week and earn more than 50K is {}%' \n",
    "      .format(round(rich_percentage, 1)))"
   ]
  },
  {
   "cell_type": "code",
   "execution_count": 55,
   "id": "f5ee7d8e-f2ee-4cb8-a7d7-d0472d4572c8",
   "metadata": {},
   "outputs": [
    {
     "data": {
      "text/plain": [
       "1"
      ]
     },
     "execution_count": 55,
     "metadata": {},
     "output_type": "execute_result"
    }
   ],
   "source": [
    "df['hours-per-week'].min()"
   ]
  },
  {
   "cell_type": "markdown",
   "id": "879e8f4a-68e7-4243-aa64-9b7b4f8ad836",
   "metadata": {},
   "source": [
    "## Highest percentage of people earning more than 50K per country"
   ]
  },
  {
   "cell_type": "code",
   "execution_count": 59,
   "id": "c8daddfe-2078-40bd-87cc-c96a6ec3930f",
   "metadata": {},
   "outputs": [
    {
     "name": "stdout",
     "output_type": "stream",
     "text": [
      "The country that has the highest percentage of peaople earning more than 50K is Iran with 41.9%\n"
     ]
    }
   ],
   "source": [
    "columnA = df.groupby('native-country').size()\n",
    "columnB = more50k.groupby('native-country').size() #gettin' columns with \n",
    "data = pd.concat([columnA, columnB], axis = 1) #Creating a new dataframe with the quantities \n",
    "data.columns = ['Total', '>50K']\n",
    "data['percentage'] = round((data['>50K'] / data['Total']) * 100, 1)\n",
    "data.sort_values(by = 'percentage', ascending = False, inplace = True)\n",
    "highest_earning_country = data.index[0]\n",
    "highest_earning_country_percentage = data.iloc[0,2]\n",
    "print('The country that has the highest percentage of peaople earning more than 50K is {} with {}%'\n",
    "      .format(highest_earning_country, highest_earning_country_percentage))"
   ]
  },
  {
   "cell_type": "markdown",
   "id": "1a9e4b1c-caaf-43fb-9f73-18011126bad4",
   "metadata": {},
   "source": [
    "## Most popular occupation in India (+50K)"
   ]
  },
  {
   "cell_type": "code",
   "execution_count": 60,
   "id": "13e82a28-b322-499e-9bf0-79fa1c799994",
   "metadata": {},
   "outputs": [
    {
     "name": "stdout",
     "output_type": "stream",
     "text": [
      "The most popular occupation for those who earn more than 50K in India is Prof-specialty with 25 people\n"
     ]
    }
   ],
   "source": [
    "india_more50k = more50k[(more50k['native-country'] == 'India')]\n",
    "india_more50k_occupation = india_more50k.groupby('occupation').size()\n",
    "india_more50k_occupation.sort_values(ascending = False, inplace = True)\n",
    "top_IN_occupation = india_more50k_occupation.index[0]\n",
    "print('The most popular occupation for those who earn more than 50K in India is {} with {} people'\n",
    "      .format(top_IN_occupation, india_more50k_occupation.loc[india_more50k_occupation.index[0]]))\n",
    "\n",
    "#Comentario de prueba"
   ]
  },
  {
   "cell_type": "code",
   "execution_count": null,
   "id": "8ced434f-c625-4c0d-a84c-73dd33102577",
   "metadata": {},
   "outputs": [],
   "source": []
  }
 ],
 "metadata": {
  "kernelspec": {
   "display_name": "Python 3 (ipykernel)",
   "language": "python",
   "name": "python3"
  },
  "language_info": {
   "codemirror_mode": {
    "name": "ipython",
    "version": 3
   },
   "file_extension": ".py",
   "mimetype": "text/x-python",
   "name": "python",
   "nbconvert_exporter": "python",
   "pygments_lexer": "ipython3",
   "version": "3.9.12"
  }
 },
 "nbformat": 4,
 "nbformat_minor": 5
}
